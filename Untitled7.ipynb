{
 "cells": [
  {
   "cell_type": "markdown",
   "id": "5a8bde22",
   "metadata": {},
   "source": [
    "# Question 1"
   ]
  },
  {
   "cell_type": "code",
   "execution_count": 8,
   "id": "8b7ae0d8",
   "metadata": {},
   "outputs": [
    {
     "data": {
      "text/plain": [
       "5"
      ]
     },
     "execution_count": 8,
     "metadata": {},
     "output_type": "execute_result"
    }
   ],
   "source": [
    "def Maximum(a, b, c):\n",
    "    if a>b and a>c:\n",
    "        return a\n",
    "    elif b>a and b>c:\n",
    "        return b\n",
    "    return c\n",
    "Maximum(3, 2, 5)"
   ]
  },
  {
   "cell_type": "markdown",
   "id": "2c669c60",
   "metadata": {},
   "source": [
    "# Question 2"
   ]
  },
  {
   "cell_type": "code",
   "execution_count": 14,
   "id": "4e612b29",
   "metadata": {},
   "outputs": [],
   "source": [
    "def calculation(a, b):\n",
    "    return (a+b,a-b)"
   ]
  },
  {
   "cell_type": "code",
   "execution_count": 15,
   "id": "0b1846eb",
   "metadata": {},
   "outputs": [
    {
     "data": {
      "text/plain": [
       "(22, 10)"
      ]
     },
     "execution_count": 15,
     "metadata": {},
     "output_type": "execute_result"
    }
   ],
   "source": [
    "calculation(16, 6)"
   ]
  },
  {
   "cell_type": "markdown",
   "id": "cdea804f",
   "metadata": {},
   "source": [
    "# Question 3"
   ]
  },
  {
   "cell_type": "code",
   "execution_count": 6,
   "id": "f0773a16",
   "metadata": {},
   "outputs": [],
   "source": [
    "def list_sum(x):\n",
    "    s = 0\n",
    "    for i in x:\n",
    "        s += i\n",
    "        \n",
    "    return s"
   ]
  },
  {
   "cell_type": "code",
   "execution_count": 7,
   "id": "fe95a1b7",
   "metadata": {},
   "outputs": [],
   "source": [
    "def list_prod(a):\n",
    "    b = 1 \n",
    "    for i in a:\n",
    "        b *= i\n",
    "        \n",
    "    return b"
   ]
  },
  {
   "cell_type": "code",
   "execution_count": 10,
   "id": "6f67ceac",
   "metadata": {},
   "outputs": [
    {
     "data": {
      "text/plain": [
       "(16, 48)"
      ]
     },
     "execution_count": 10,
     "metadata": {},
     "output_type": "execute_result"
    }
   ],
   "source": [
    "l = [1,2,3,4,5,6,7]\n",
    "impair_l = [l[i] for i in range(len(l)) if i%2 == 1]\n",
    "pair_l = [l[i] for i in range(len(l)) if i%2 == 0]\n",
    "list_sum(pair_l), list_prod(impair_l)"
   ]
  },
  {
   "cell_type": "markdown",
   "id": "9b5f7998",
   "metadata": {},
   "source": [
    "# Question 4"
   ]
  },
  {
   "cell_type": "code",
   "execution_count": 11,
   "id": "3d55d388",
   "metadata": {},
   "outputs": [
    {
     "data": {
      "text/plain": [
       "'black-green-red-white-yellow'"
      ]
     },
     "execution_count": 11,
     "metadata": {},
     "output_type": "execute_result"
    }
   ],
   "source": [
    "s = \"green-red-yellow-black-white\"\n",
    "slist = sorted(s.split(\"-\"))\n",
    "'-'.join(slist)"
   ]
  },
  {
   "cell_type": "markdown",
   "id": "c2b5c693",
   "metadata": {},
   "source": [
    "# Question 5"
   ]
  },
  {
   "cell_type": "code",
   "execution_count": 14,
   "id": "538c0ec0",
   "metadata": {},
   "outputs": [],
   "source": [
    "import math"
   ]
  },
  {
   "cell_type": "code",
   "execution_count": 15,
   "id": "3e4ad1f8",
   "metadata": {},
   "outputs": [
    {
     "data": {
      "text/plain": [
       "[18.3, 22.4, 24.5]"
      ]
     },
     "execution_count": 15,
     "metadata": {},
     "output_type": "execute_result"
    }
   ],
   "source": [
    "q = lambda c, h, d: math.sqrt((2*c*d)/h)\n",
    "c = 50\n",
    "h = 30\n",
    "d = \"100,150,180\"\n",
    "d = [int(x) for x in d.split(\",\")]\n",
    "[round(q(c, h, x), 1) for x in d]"
   ]
  }
 ],
 "metadata": {
  "kernelspec": {
   "display_name": "Python 3 (ipykernel)",
   "language": "python",
   "name": "python3"
  },
  "language_info": {
   "codemirror_mode": {
    "name": "ipython",
    "version": 3
   },
   "file_extension": ".py",
   "mimetype": "text/x-python",
   "name": "python",
   "nbconvert_exporter": "python",
   "pygments_lexer": "ipython3",
   "version": "3.9.7"
  }
 },
 "nbformat": 4,
 "nbformat_minor": 5
}
